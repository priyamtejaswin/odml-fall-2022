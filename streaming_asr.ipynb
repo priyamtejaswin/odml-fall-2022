{
 "cells": [
  {
   "cell_type": "code",
   "execution_count": null,
   "id": "198752b9",
   "metadata": {},
   "outputs": [],
   "source": [
    "import pyaudio\n",
    "import queue\n",
    "import numpy as np\n",
    "import torch\n",
    "import torchaudio\n",
    "import wave"
   ]
  },
  {
   "cell_type": "code",
   "execution_count": null,
   "id": "144ebe89",
   "metadata": {},
   "outputs": [],
   "source": [
    "def get_demo_wrapper():\n",
    "    wrapper = torch.jit.load(\"scripted_wrapper_tuple.pt\")\n",
    "    return wrapper"
   ]
  },
  {
   "cell_type": "code",
   "execution_count": null,
   "id": "1dd487d1",
   "metadata": {},
   "outputs": [],
   "source": [
    "def callback(in_data, frame_count, time_info, status):\n",
    "    global data_queue, wf\n",
    "    # data_queue.put(in_data)\n",
    "    data = wf.readframes(frame_count)\n",
    "    data_queue.put(data)\n",
    "    print(frame_count)\n",
    "    # return in_data, pyaudio.paContinue\n",
    "    return data, pyaudio.paContinue"
   ]
  },
  {
   "cell_type": "code",
   "execution_count": null,
   "id": "cbb9349e",
   "metadata": {},
   "outputs": [],
   "source": [
    "def transcribe(np_array, should_print=True):\n",
    "    global state, hypo\n",
    "    tensor = torch.tensor(np_array)\n",
    "    transcript, hypo, state = wrapper(tensor, hypo, state)\n",
    "    if should_print and transcript:\n",
    "        print(transcript, end=\"\", flush=True)"
   ]
  },
  {
   "cell_type": "code",
   "execution_count": null,
   "id": "98b69b41",
   "metadata": {},
   "outputs": [],
   "source": [
    "def process(should_print=True):\n",
    "    global previous_right_context\n",
    "    if previous_right_context is None:\n",
    "        previous_right_context = [\n",
    "            np.frombuffer(data_queue.get(), dtype=np.float32) for _ in range(1)\n",
    "        ]\n",
    "\n",
    "    # Get 4 segments.\n",
    "    segments = [\n",
    "        np.frombuffer(data_queue.get(), dtype=np.float32) for _ in range(4)\n",
    "    ]\n",
    "\n",
    "    current_input = previous_right_context + segments\n",
    "\n",
    "    with torch.no_grad():\n",
    "        print(\"hitting transcription branch\")\n",
    "        transcribe(np.concatenate(current_input), should_print=should_print)\n",
    "\n",
    "    # Save right context.\n",
    "    previous_right_context = current_input[-1:]"
   ]
  },
  {
   "cell_type": "code",
   "execution_count": null,
   "id": "c63bbfd5",
   "metadata": {},
   "outputs": [],
   "source": [
    "wrapper = get_demo_wrapper()\n",
    "print(\"Loaded model.\")"
   ]
  },
  {
   "cell_type": "code",
   "execution_count": null,
   "id": "1b90cb10",
   "metadata": {},
   "outputs": [],
   "source": [
    "data_queue = queue.Queue()"
   ]
  },
  {
   "cell_type": "code",
   "execution_count": null,
   "id": "ead9ec4e",
   "metadata": {},
   "outputs": [],
   "source": [
    "state = None\n",
    "hypo = None"
   ]
  },
  {
   "cell_type": "code",
   "execution_count": null,
   "id": "91df01c7",
   "metadata": {},
   "outputs": [],
   "source": [
    "previous_right_context = None"
   ]
  },
  {
   "cell_type": "code",
   "execution_count": null,
   "id": "4254ffda",
   "metadata": {},
   "outputs": [],
   "source": [
    "# Emformer is configured with input segment size of 4 and right context size of 1.\n",
    "# Pre- time reduction with factor 4, then, we have an input segment size of 16 and\n",
    "# right context size of 4 going into RNN-T.\n",
    "# With a hop length of 160 samples, we then have 16 * 160 = 2560 samples in the input segment\n",
    "# and 4 * 160 = 640 samples in the right context.\n",
    "# Then, since the lowest common factor between 640 and 3600 is 640, we'll\n",
    "# read from the stream in 640-sample increments."
   ]
  },
  {
   "cell_type": "code",
   "execution_count": null,
   "id": "a619ece1",
   "metadata": {},
   "outputs": [],
   "source": [
    "path_seven = \"sc_v01_test/seven/0ea0e2f4_nohash_0.wav\""
   ]
  },
  {
   "cell_type": "code",
   "execution_count": null,
   "id": "d69af0f9",
   "metadata": {},
   "outputs": [],
   "source": [
    "with wave.open(path_seven) as w:\n",
    "    framerate = w.getframerate()\n",
    "    frames = w.getnframes()\n",
    "    channels = w.getnchannels()\n",
    "    width = w.getsampwidth()\n",
    "    print('sampling rate:', framerate, 'Hz')\n",
    "    print('length:', frames, 'samples')\n",
    "    print('channels:', channels)\n",
    "    print('sample width:', width, 'bytes')"
   ]
  },
  {
   "cell_type": "code",
   "execution_count": null,
   "id": "46d2f35b",
   "metadata": {
    "scrolled": true
   },
   "outputs": [],
   "source": [
    "p = pyaudio.PyAudio()"
   ]
  },
  {
   "cell_type": "code",
   "execution_count": 1,
   "id": "860a2272",
   "metadata": {},
   "outputs": [],
   "source": [
    "# We need to initialize the model by evaluating\n",
    "# a few samples.\n",
    "# If we skip this, evaluation latency will become\n",
    "# prohibitively large.\n",
    "\n",
    "print(\"Initializing model...\")\n",
    "for _ in range(10):\n",
    "    print(_)\n",
    "    process(should_print=False)\n",
    "\n",
    "print(\"Initialization complete.\")"
   ]
  },
  {
   "cell_type": "code",
   "execution_count": null,
   "id": "707bb0af",
   "metadata": {},
   "outputs": [],
   "source": [
    "data_queue = queue.Queue()\n",
    "previous_right_context = None\n",
    "state = None\n",
    "prev_hypo = None"
   ]
  },
  {
   "cell_type": "code",
   "execution_count": null,
   "id": "2c635abb",
   "metadata": {},
   "outputs": [],
   "source": [
    "wf = wave.open(path_seven, 'rb')"
   ]
  },
  {
   "cell_type": "code",
   "execution_count": null,
   "id": "b7a19c2e",
   "metadata": {},
   "outputs": [],
   "source": [
    "stream = p.open(\n",
    "    format=pyaudio.paFloat32,\n",
    "    channels=channels,\n",
    "    rate=framerate,\n",
    "    input=False,\n",
    "    output=True,\n",
    "    frames_per_buffer=640,\n",
    "    stream_callback=callback,\n",
    ")"
   ]
  },
  {
   "cell_type": "code",
   "execution_count": null,
   "id": "26750b5c",
   "metadata": {},
   "outputs": [],
   "source": [
    "stream.start_stream()"
   ]
  },
  {
   "cell_type": "code",
   "execution_count": null,
   "id": "0325d0db",
   "metadata": {},
   "outputs": [],
   "source": [
    "while stream.is_active():\n",
    "    print(\"START\")\n",
    "    process(should_print=True)\n",
    "    print(\"END\")"
   ]
  },
  {
   "cell_type": "code",
   "execution_count": null,
   "id": "b3783208",
   "metadata": {},
   "outputs": [],
   "source": [
    "stream.stop_stream()\n",
    "stream.close()"
   ]
  },
  {
   "cell_type": "code",
   "execution_count": null,
   "id": "7dfe63ec",
   "metadata": {},
   "outputs": [],
   "source": [
    "wf.close()"
   ]
  },
  {
   "cell_type": "code",
   "execution_count": null,
   "id": "c41a1899",
   "metadata": {},
   "outputs": [],
   "source": [
    "p.terminate()"
   ]
  },
  {
   "cell_type": "code",
   "execution_count": null,
   "id": "4b48007c",
   "metadata": {},
   "outputs": [],
   "source": []
  },
  {
   "cell_type": "code",
   "execution_count": null,
   "id": "a6ed4d5b",
   "metadata": {},
   "outputs": [],
   "source": []
  },
  {
   "cell_type": "code",
   "execution_count": null,
   "id": "7b12cef2",
   "metadata": {},
   "outputs": [],
   "source": []
  },
  {
   "cell_type": "markdown",
   "id": "aea5e5ba",
   "metadata": {},
   "source": [
    "# SCRATCH"
   ]
  },
  {
   "cell_type": "code",
   "execution_count": 3,
   "id": "841261ab",
   "metadata": {},
   "outputs": [
    {
     "name": "stdout",
     "output_type": "stream",
     "text": [
      "0 640\n",
      "640 1280\n",
      "1280 1920\n",
      "1920 2560\n"
     ]
    }
   ],
   "source": [
    "for i in range(0, 2560, 640):\n",
    "    print(i, i+640)"
   ]
  },
  {
   "cell_type": "code",
   "execution_count": 4,
   "id": "82c0a1c7",
   "metadata": {},
   "outputs": [
    {
     "ename": "RuntimeError",
     "evalue": "torchaudio is not compiled with FFmpeg integration. Please set USE_FFMPEG=1 when compiling torchaudio.",
     "output_type": "error",
     "traceback": [
      "\u001b[0;31m---------------------------------------------------------------------------\u001b[0m",
      "\u001b[0;31mRuntimeError\u001b[0m                              Traceback (most recent call last)",
      "Cell \u001b[0;32mIn [4], line 1\u001b[0m\n\u001b[0;32m----> 1\u001b[0m \u001b[38;5;28;01mfrom\u001b[39;00m \u001b[38;5;21;01mtorchaudio\u001b[39;00m\u001b[38;5;21;01m.\u001b[39;00m\u001b[38;5;21;01mio\u001b[39;00m \u001b[38;5;28;01mimport\u001b[39;00m StreamReader\n",
      "File \u001b[0;32m<frozen importlib._bootstrap>:1055\u001b[0m, in \u001b[0;36m_handle_fromlist\u001b[0;34m(module, fromlist, import_, recursive)\u001b[0m\n",
      "File \u001b[0;32m~/priyamenvs/sc-baseline/lib/python3.9/site-packages/torchaudio/io/__init__.py:15\u001b[0m, in \u001b[0;36m__getattr__\u001b[0;34m(name)\u001b[0m\n\u001b[1;32m     12\u001b[0m \u001b[38;5;28;01mdef\u001b[39;00m \u001b[38;5;21m__getattr__\u001b[39m(name: \u001b[38;5;28mstr\u001b[39m):\n\u001b[1;32m     13\u001b[0m     \u001b[38;5;28;01mif\u001b[39;00m name \u001b[38;5;129;01min\u001b[39;00m _LAZILY_IMPORTED:\n\u001b[0;32m---> 15\u001b[0m         \u001b[43mtorchaudio\u001b[49m\u001b[38;5;241;43m.\u001b[39;49m\u001b[43m_extension\u001b[49m\u001b[38;5;241;43m.\u001b[39;49m\u001b[43m_init_ffmpeg\u001b[49m\u001b[43m(\u001b[49m\u001b[43m)\u001b[49m\n\u001b[1;32m     17\u001b[0m         \u001b[38;5;28;01mfrom\u001b[39;00m \u001b[38;5;21;01m.\u001b[39;00m \u001b[38;5;28;01mimport\u001b[39;00m _stream_reader\n\u001b[1;32m     19\u001b[0m         item \u001b[38;5;241m=\u001b[39m \u001b[38;5;28mgetattr\u001b[39m(_stream_reader, name)\n",
      "File \u001b[0;32m~/priyamenvs/sc-baseline/lib/python3.9/site-packages/torchaudio/_extension.py:65\u001b[0m, in \u001b[0;36m_init_ffmpeg\u001b[0;34m()\u001b[0m\n\u001b[1;32m     62\u001b[0m     \u001b[38;5;28;01mreturn\u001b[39;00m\n\u001b[1;32m     64\u001b[0m \u001b[38;5;28;01mif\u001b[39;00m \u001b[38;5;129;01mnot\u001b[39;00m torch\u001b[38;5;241m.\u001b[39mops\u001b[38;5;241m.\u001b[39mtorchaudio\u001b[38;5;241m.\u001b[39mis_ffmpeg_available():\n\u001b[0;32m---> 65\u001b[0m     \u001b[38;5;28;01mraise\u001b[39;00m \u001b[38;5;167;01mRuntimeError\u001b[39;00m(\n\u001b[1;32m     66\u001b[0m         \u001b[38;5;124m\"\u001b[39m\u001b[38;5;124mtorchaudio is not compiled with FFmpeg integration. Please set USE_FFMPEG=1 when compiling torchaudio.\u001b[39m\u001b[38;5;124m\"\u001b[39m\n\u001b[1;32m     67\u001b[0m     )\n\u001b[1;32m     69\u001b[0m \u001b[38;5;28;01mtry\u001b[39;00m:\n\u001b[1;32m     70\u001b[0m     _load_lib(\u001b[38;5;124m\"\u001b[39m\u001b[38;5;124mlibtorchaudio_ffmpeg\u001b[39m\u001b[38;5;124m\"\u001b[39m)\n",
      "\u001b[0;31mRuntimeError\u001b[0m: torchaudio is not compiled with FFmpeg integration. Please set USE_FFMPEG=1 when compiling torchaudio."
     ]
    }
   ],
   "source": [
    "from torchaudio.io import StreamReader"
   ]
  },
  {
   "cell_type": "code",
   "execution_count": null,
   "id": "5dd54da8",
   "metadata": {},
   "outputs": [],
   "source": []
  }
 ],
 "metadata": {
  "kernelspec": {
   "display_name": "Python 3 (ipykernel)",
   "language": "python",
   "name": "python3"
  },
  "language_info": {
   "codemirror_mode": {
    "name": "ipython",
    "version": 3
   },
   "file_extension": ".py",
   "mimetype": "text/x-python",
   "name": "python",
   "nbconvert_exporter": "python",
   "pygments_lexer": "ipython3",
   "version": "3.9.2"
  }
 },
 "nbformat": 4,
 "nbformat_minor": 5
}
