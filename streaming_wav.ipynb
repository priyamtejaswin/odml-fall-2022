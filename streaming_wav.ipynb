{
 "cells": [
  {
   "cell_type": "code",
   "execution_count": 12,
   "id": "18fe55a3",
   "metadata": {},
   "outputs": [],
   "source": [
    "import pyaudio\n",
    "import wave\n",
    "import time"
   ]
  },
  {
   "cell_type": "code",
   "execution_count": 3,
   "id": "df895ee1",
   "metadata": {},
   "outputs": [],
   "source": [
    "# wf = wave.open(\"./sc_v01_test/seven/0ea0e2f4_nohash_0.wav\", 'rb')"
   ]
  },
  {
   "cell_type": "code",
   "execution_count": 18,
   "id": "789fa6fb",
   "metadata": {},
   "outputs": [
    {
     "name": "stdout",
     "output_type": "stream",
     "text": [
      "16000\n",
      "1300\n",
      "1300\n",
      "1300\n",
      "1300\n",
      "1300\n",
      "1300\n",
      "1300\n",
      "1300\n",
      "1300\n",
      "1300\n",
      "1300\n",
      "1300\n",
      "1300\n",
      "1300\n",
      "1300\n",
      "1300\n",
      "1300\n",
      "1300\n",
      "1300\n",
      "1300\n",
      "1300\n",
      "1300\n",
      "1300\n",
      "1300\n",
      "800\n"
     ]
    }
   ],
   "source": [
    "with wave.open(\"./sc_v01_test/seven/0ea0e2f4_nohash_0.wav\", \"rb\") as fp:\n",
    "    print(fp.getnframes())\n",
    "    for i in range(0, fp.getnframes(), 650):\n",
    "        print(len(fp.readframes(650)))"
   ]
  },
  {
   "cell_type": "code",
   "execution_count": null,
   "id": "2d714239",
   "metadata": {},
   "outputs": [],
   "source": []
  },
  {
   "cell_type": "code",
   "execution_count": 4,
   "id": "3617ddb3",
   "metadata": {
    "scrolled": true
   },
   "outputs": [
    {
     "name": "stderr",
     "output_type": "stream",
     "text": [
      "ALSA lib confmisc.c:1281:(snd_func_refer) Unable to find definition 'cards.bcm2835_headpho.pcm.front.0:CARD=0'\n",
      "ALSA lib conf.c:4745:(_snd_config_evaluate) function snd_func_refer returned error: No such file or directory\n",
      "ALSA lib conf.c:5233:(snd_config_expand) Evaluate error: No such file or directory\n",
      "ALSA lib pcm.c:2660:(snd_pcm_open_noupdate) Unknown PCM front\n",
      "ALSA lib pcm.c:2660:(snd_pcm_open_noupdate) Unknown PCM cards.pcm.rear\n",
      "ALSA lib pcm.c:2660:(snd_pcm_open_noupdate) Unknown PCM cards.pcm.center_lfe\n",
      "ALSA lib pcm.c:2660:(snd_pcm_open_noupdate) Unknown PCM cards.pcm.side\n",
      "ALSA lib confmisc.c:1281:(snd_func_refer) Unable to find definition 'cards.bcm2835_headpho.pcm.surround51.0:CARD=0'\n",
      "ALSA lib conf.c:4745:(_snd_config_evaluate) function snd_func_refer returned error: No such file or directory\n",
      "ALSA lib conf.c:5233:(snd_config_expand) Evaluate error: No such file or directory\n",
      "ALSA lib pcm.c:2660:(snd_pcm_open_noupdate) Unknown PCM surround21\n",
      "ALSA lib confmisc.c:1281:(snd_func_refer) Unable to find definition 'cards.bcm2835_headpho.pcm.surround51.0:CARD=0'\n",
      "ALSA lib conf.c:4745:(_snd_config_evaluate) function snd_func_refer returned error: No such file or directory\n",
      "ALSA lib conf.c:5233:(snd_config_expand) Evaluate error: No such file or directory\n",
      "ALSA lib pcm.c:2660:(snd_pcm_open_noupdate) Unknown PCM surround21\n",
      "ALSA lib confmisc.c:1281:(snd_func_refer) Unable to find definition 'cards.bcm2835_headpho.pcm.surround40.0:CARD=0'\n",
      "ALSA lib conf.c:4745:(_snd_config_evaluate) function snd_func_refer returned error: No such file or directory\n",
      "ALSA lib conf.c:5233:(snd_config_expand) Evaluate error: No such file or directory\n",
      "ALSA lib pcm.c:2660:(snd_pcm_open_noupdate) Unknown PCM surround40\n",
      "ALSA lib confmisc.c:1281:(snd_func_refer) Unable to find definition 'cards.bcm2835_headpho.pcm.surround51.0:CARD=0'\n",
      "ALSA lib conf.c:4745:(_snd_config_evaluate) function snd_func_refer returned error: No such file or directory\n",
      "ALSA lib conf.c:5233:(snd_config_expand) Evaluate error: No such file or directory\n",
      "ALSA lib pcm.c:2660:(snd_pcm_open_noupdate) Unknown PCM surround41\n",
      "ALSA lib confmisc.c:1281:(snd_func_refer) Unable to find definition 'cards.bcm2835_headpho.pcm.surround51.0:CARD=0'\n",
      "ALSA lib conf.c:4745:(_snd_config_evaluate) function snd_func_refer returned error: No such file or directory\n",
      "ALSA lib conf.c:5233:(snd_config_expand) Evaluate error: No such file or directory\n",
      "ALSA lib pcm.c:2660:(snd_pcm_open_noupdate) Unknown PCM surround50\n",
      "ALSA lib confmisc.c:1281:(snd_func_refer) Unable to find definition 'cards.bcm2835_headpho.pcm.surround51.0:CARD=0'\n",
      "ALSA lib conf.c:4745:(_snd_config_evaluate) function snd_func_refer returned error: No such file or directory\n",
      "ALSA lib conf.c:5233:(snd_config_expand) Evaluate error: No such file or directory\n",
      "ALSA lib pcm.c:2660:(snd_pcm_open_noupdate) Unknown PCM surround51\n",
      "ALSA lib confmisc.c:1281:(snd_func_refer) Unable to find definition 'cards.bcm2835_headpho.pcm.surround71.0:CARD=0'\n",
      "ALSA lib conf.c:4745:(_snd_config_evaluate) function snd_func_refer returned error: No such file or directory\n",
      "ALSA lib conf.c:5233:(snd_config_expand) Evaluate error: No such file or directory\n",
      "ALSA lib pcm.c:2660:(snd_pcm_open_noupdate) Unknown PCM surround71\n",
      "ALSA lib confmisc.c:1281:(snd_func_refer) Unable to find definition 'cards.bcm2835_headpho.pcm.iec958.0:CARD=0,AES0=4,AES1=130,AES2=0,AES3=2'\n",
      "ALSA lib conf.c:4745:(_snd_config_evaluate) function snd_func_refer returned error: No such file or directory\n",
      "ALSA lib conf.c:5233:(snd_config_expand) Evaluate error: No such file or directory\n",
      "ALSA lib pcm.c:2660:(snd_pcm_open_noupdate) Unknown PCM iec958\n",
      "ALSA lib confmisc.c:1281:(snd_func_refer) Unable to find definition 'cards.bcm2835_headpho.pcm.iec958.0:CARD=0,AES0=4,AES1=130,AES2=0,AES3=2'\n",
      "ALSA lib conf.c:4745:(_snd_config_evaluate) function snd_func_refer returned error: No such file or directory\n",
      "ALSA lib conf.c:5233:(snd_config_expand) Evaluate error: No such file or directory\n",
      "ALSA lib pcm.c:2660:(snd_pcm_open_noupdate) Unknown PCM spdif\n",
      "ALSA lib confmisc.c:1281:(snd_func_refer) Unable to find definition 'cards.bcm2835_headpho.pcm.iec958.0:CARD=0,AES0=4,AES1=130,AES2=0,AES3=2'\n",
      "ALSA lib conf.c:4745:(_snd_config_evaluate) function snd_func_refer returned error: No such file or directory\n",
      "ALSA lib conf.c:5233:(snd_config_expand) Evaluate error: No such file or directory\n",
      "ALSA lib pcm.c:2660:(snd_pcm_open_noupdate) Unknown PCM spdif\n",
      "ALSA lib confmisc.c:1281:(snd_func_refer) Unable to find definition 'cards.bcm2835_headpho.pcm.hdmi.0:CARD=0,AES0=4,AES1=130,AES2=0,AES3=2'\n",
      "ALSA lib conf.c:4745:(_snd_config_evaluate) function snd_func_refer returned error: No such file or directory\n",
      "ALSA lib conf.c:5233:(snd_config_expand) Evaluate error: No such file or directory\n",
      "ALSA lib pcm.c:2660:(snd_pcm_open_noupdate) Unknown PCM hdmi\n",
      "ALSA lib confmisc.c:1281:(snd_func_refer) Unable to find definition 'cards.bcm2835_headpho.pcm.hdmi.0:CARD=0,AES0=4,AES1=130,AES2=0,AES3=2'\n",
      "ALSA lib conf.c:4745:(_snd_config_evaluate) function snd_func_refer returned error: No such file or directory\n",
      "ALSA lib conf.c:5233:(snd_config_expand) Evaluate error: No such file or directory\n",
      "ALSA lib pcm.c:2660:(snd_pcm_open_noupdate) Unknown PCM hdmi\n",
      "ALSA lib pcm.c:2660:(snd_pcm_open_noupdate) Unknown PCM cards.pcm.modem\n",
      "ALSA lib pcm.c:2660:(snd_pcm_open_noupdate) Unknown PCM cards.pcm.modem\n",
      "ALSA lib pcm.c:2660:(snd_pcm_open_noupdate) Unknown PCM cards.pcm.phoneline\n",
      "ALSA lib pcm.c:2660:(snd_pcm_open_noupdate) Unknown PCM cards.pcm.phoneline\n",
      "ALSA lib pcm_oss.c:377:(_snd_pcm_oss_open) Unknown field port\n",
      "ALSA lib pcm_oss.c:377:(_snd_pcm_oss_open) Unknown field port\n",
      "ALSA lib pcm_a52.c:823:(_snd_pcm_a52_open) a52 is only for playback\n",
      "ALSA lib confmisc.c:1281:(snd_func_refer) Unable to find definition 'cards.bcm2835_headpho.pcm.iec958.0:CARD=0,AES0=6,AES1=130,AES2=0,AES3=2'\n",
      "ALSA lib conf.c:4745:(_snd_config_evaluate) function snd_func_refer returned error: No such file or directory\n",
      "ALSA lib conf.c:5233:(snd_config_expand) Evaluate error: No such file or directory\n",
      "ALSA lib pcm.c:2660:(snd_pcm_open_noupdate) Unknown PCM iec958:{AES0 0x6 AES1 0x82 AES2 0x0 AES3 0x2  CARD 0}\n",
      "ALSA lib pcm_usb_stream.c:486:(_snd_pcm_usb_stream_open) Invalid type for card\n",
      "ALSA lib pcm_usb_stream.c:486:(_snd_pcm_usb_stream_open) Invalid type for card\n"
     ]
    }
   ],
   "source": [
    "# instantiate PyAudio (1)\n",
    "p = pyaudio.PyAudio()"
   ]
  },
  {
   "cell_type": "code",
   "execution_count": 7,
   "id": "1c46c295",
   "metadata": {},
   "outputs": [],
   "source": [
    "# define callback (2)\n",
    "def callback(in_data, frame_count, time_info, status):\n",
    "    data = wf.readframes(frame_count)\n",
    "    print(len(data))\n",
    "    return (data, pyaudio.paContinue)"
   ]
  },
  {
   "cell_type": "code",
   "execution_count": 8,
   "id": "777bb1c3",
   "metadata": {},
   "outputs": [
    {
     "name": "stdout",
     "output_type": "stream",
     "text": [
      "0\n"
     ]
    }
   ],
   "source": [
    "# open stream using callback (3)\n",
    "stream = p.open(format=p.get_format_from_width(wf.getsampwidth()),\n",
    "                channels=wf.getnchannels(),\n",
    "                rate=wf.getframerate(),\n",
    "                output=True,\n",
    "                stream_callback=callback)"
   ]
  },
  {
   "cell_type": "code",
   "execution_count": 9,
   "id": "e5ca6f24",
   "metadata": {},
   "outputs": [],
   "source": [
    "stream.start_stream()"
   ]
  },
  {
   "cell_type": "code",
   "execution_count": 10,
   "id": "3f6829f3",
   "metadata": {},
   "outputs": [],
   "source": [
    "while stream.is_active():\n",
    "    time.sleep(1)"
   ]
  },
  {
   "cell_type": "code",
   "execution_count": 11,
   "id": "62e3af42",
   "metadata": {},
   "outputs": [],
   "source": [
    "# stop stream (6)\n",
    "stream.stop_stream()\n",
    "stream.close()\n",
    "wf.close()\n",
    "\n",
    "# close PyAudio (7)\n",
    "p.terminate()"
   ]
  },
  {
   "cell_type": "code",
   "execution_count": null,
   "id": "035180ba",
   "metadata": {},
   "outputs": [],
   "source": []
  }
 ],
 "metadata": {
  "kernelspec": {
   "display_name": "Python 3 (ipykernel)",
   "language": "python",
   "name": "python3"
  },
  "language_info": {
   "codemirror_mode": {
    "name": "ipython",
    "version": 3
   },
   "file_extension": ".py",
   "mimetype": "text/x-python",
   "name": "python",
   "nbconvert_exporter": "python",
   "pygments_lexer": "ipython3",
   "version": "3.9.2"
  }
 },
 "nbformat": 4,
 "nbformat_minor": 5
}
