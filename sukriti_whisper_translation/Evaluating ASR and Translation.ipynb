{
 "cells": [
  {
   "cell_type": "code",
   "execution_count": 1,
   "id": "6f04c11d",
   "metadata": {},
   "outputs": [],
   "source": [
    "import jiwer\n",
    "from jiwer import wer\n",
    "import re\n",
    "import pandas as pd\n",
    "from sacrebleu.metrics import BLEU, CHRF, TER"
   ]
  },
  {
   "cell_type": "code",
   "execution_count": 2,
   "id": "8d8dd315",
   "metadata": {},
   "outputs": [],
   "source": [
    "def getWER(ground_truth, hypothesis):\n",
    "    for i in range(len(ground_truth)):\n",
    "        ground_truth[i] = re.sub(r'\\W+', ' ', ground_truth[i])\n",
    "        hypothesis[i] = re.sub(r'\\W+', ' ', hypothesis[i])\n",
    "\n",
    "    transformation = jiwer.Compose([\n",
    "        jiwer.ToLowerCase(),\n",
    "        jiwer.RemoveWhiteSpace(replace_by_space=True),\n",
    "        jiwer.RemoveMultipleSpaces(),\n",
    "        jiwer.ReduceToListOfListOfWords(word_delimiter=\" \")\n",
    "    ]) \n",
    "\n",
    "    error = jiwer.wer(\n",
    "        ground_truth, \n",
    "        hypothesis, \n",
    "        truth_transform=transformation, \n",
    "        hypothesis_transform=transformation\n",
    "    )\n",
    "    print(error)\n",
    "    return error"
   ]
  },
  {
   "cell_type": "code",
   "execution_count": 59,
   "id": "80e1e438",
   "metadata": {},
   "outputs": [],
   "source": [
    "def getBLEU(ground_truth, hypothesis):\n",
    "    refs = ground_truth\n",
    "    sys = hypothesis\n",
    "    bleu = BLEU()\n",
    "    bleu_score = bleu.corpus_score(sys, refs)\n",
    "    print(bleu_score)\n",
    "    return bleu_score"
   ]
  },
  {
   "cell_type": "code",
   "execution_count": 54,
   "id": "e332f66a",
   "metadata": {},
   "outputs": [],
   "source": [
    "paths = []\n",
    "englishs = []\n",
    "germans = []\n",
    "lines = [line.rstrip() for line in open(\"covost_v2.en_de.dev.tsv\")]\n",
    "for i in range(len(lines)):\n",
    "    if i==0:\n",
    "        continue\n",
    "    value = re.split(r'\\t', lines[i])\n",
    "    paths.append(value[0])\n",
    "    englishs.append(value[1])\n",
    "    germans.append(value[2])\n",
    "\n",
    "df = pd.DataFrame()\n",
    "df['path'] = paths\n",
    "df['german'] = germans\n",
    "df['english'] = englishs\n",
    "df = df.astype(str)"
   ]
  },
  {
   "cell_type": "code",
   "execution_count": 55,
   "id": "177f994c",
   "metadata": {},
   "outputs": [
    {
     "data": {
      "text/html": [
       "<div>\n",
       "<style scoped>\n",
       "    .dataframe tbody tr th:only-of-type {\n",
       "        vertical-align: middle;\n",
       "    }\n",
       "\n",
       "    .dataframe tbody tr th {\n",
       "        vertical-align: top;\n",
       "    }\n",
       "\n",
       "    .dataframe thead th {\n",
       "        text-align: right;\n",
       "    }\n",
       "</style>\n",
       "<table border=\"1\" class=\"dataframe\">\n",
       "  <thead>\n",
       "    <tr style=\"text-align: right;\">\n",
       "      <th></th>\n",
       "      <th>path</th>\n",
       "      <th>german</th>\n",
       "      <th>english</th>\n",
       "    </tr>\n",
       "  </thead>\n",
       "  <tbody>\n",
       "    <tr>\n",
       "      <th>0</th>\n",
       "      <td>common_voice_en_18862286.mp3</td>\n",
       "      <td>Der Rhythmus wird in der Bossa-Nova-Musik typi...</td>\n",
       "      <td>The rhythm is typically played as a snare rim ...</td>\n",
       "    </tr>\n",
       "    <tr>\n",
       "      <th>1</th>\n",
       "      <td>common_voice_en_18854895.mp3</td>\n",
       "      <td>Der Verwaltungssitz des Countys ist Prineville.</td>\n",
       "      <td>The county seat is Prineville.</td>\n",
       "    </tr>\n",
       "    <tr>\n",
       "      <th>2</th>\n",
       "      <td>common_voice_en_18854899.mp3</td>\n",
       "      <td>In Barkhamsted gibt es keine öffentlichen Verk...</td>\n",
       "      <td>There is no public transportation in Barkhamsted.</td>\n",
       "    </tr>\n",
       "    <tr>\n",
       "      <th>3</th>\n",
       "      <td>common_voice_en_18860698.mp3</td>\n",
       "      <td>Im Laufe seiner Karriere zeichnete Berryman Ta...</td>\n",
       "      <td>During his career, Berryman drew thousands of ...</td>\n",
       "    </tr>\n",
       "    <tr>\n",
       "      <th>4</th>\n",
       "      <td>common_voice_en_18860699.mp3</td>\n",
       "      <td>Aus lauter Angst fliehen die Männer am nächste...</td>\n",
       "      <td>Scared, the men flee the camp the next morning.</td>\n",
       "    </tr>\n",
       "    <tr>\n",
       "      <th>...</th>\n",
       "      <td>...</td>\n",
       "      <td>...</td>\n",
       "      <td>...</td>\n",
       "    </tr>\n",
       "    <tr>\n",
       "      <th>15489</th>\n",
       "      <td>common_voice_en_19789230.mp3</td>\n",
       "      <td>Es kommunizierte unter Verwendung des Microsof...</td>\n",
       "      <td>It communicated using the Microsoft Notificati...</td>\n",
       "    </tr>\n",
       "    <tr>\n",
       "      <th>15490</th>\n",
       "      <td>common_voice_en_20064029.mp3</td>\n",
       "      <td>Ein kleiner Doppelkrater überlagert einen Teil...</td>\n",
       "      <td>A small double-crater overlays a portion of th...</td>\n",
       "    </tr>\n",
       "    <tr>\n",
       "      <th>15491</th>\n",
       "      <td>common_voice_en_20064031.mp3</td>\n",
       "      <td>Die Hauptkulturen sind Weizen, Gerste und Linsen.</td>\n",
       "      <td>Wheat, barley and lentil are the main crops.</td>\n",
       "    </tr>\n",
       "    <tr>\n",
       "      <th>15492</th>\n",
       "      <td>common_voice_en_20064032.mp3</td>\n",
       "      <td>Der Township-Manager ist Giovanni D. Ahmad.</td>\n",
       "      <td>Giovanni D. Ahmad is the township manager.</td>\n",
       "    </tr>\n",
       "    <tr>\n",
       "      <th>15493</th>\n",
       "      <td>common_voice_en_20064033.mp3</td>\n",
       "      <td>Das Gebiet war jahrzehntelang eine wichtige Ta...</td>\n",
       "      <td>For decades, the area was a key tobacco-growin...</td>\n",
       "    </tr>\n",
       "  </tbody>\n",
       "</table>\n",
       "<p>15494 rows × 3 columns</p>\n",
       "</div>"
      ],
      "text/plain": [
       "                               path  \\\n",
       "0      common_voice_en_18862286.mp3   \n",
       "1      common_voice_en_18854895.mp3   \n",
       "2      common_voice_en_18854899.mp3   \n",
       "3      common_voice_en_18860698.mp3   \n",
       "4      common_voice_en_18860699.mp3   \n",
       "...                             ...   \n",
       "15489  common_voice_en_19789230.mp3   \n",
       "15490  common_voice_en_20064029.mp3   \n",
       "15491  common_voice_en_20064031.mp3   \n",
       "15492  common_voice_en_20064032.mp3   \n",
       "15493  common_voice_en_20064033.mp3   \n",
       "\n",
       "                                                  german  \\\n",
       "0      Der Rhythmus wird in der Bossa-Nova-Musik typi...   \n",
       "1        Der Verwaltungssitz des Countys ist Prineville.   \n",
       "2      In Barkhamsted gibt es keine öffentlichen Verk...   \n",
       "3      Im Laufe seiner Karriere zeichnete Berryman Ta...   \n",
       "4      Aus lauter Angst fliehen die Männer am nächste...   \n",
       "...                                                  ...   \n",
       "15489  Es kommunizierte unter Verwendung des Microsof...   \n",
       "15490  Ein kleiner Doppelkrater überlagert einen Teil...   \n",
       "15491  Die Hauptkulturen sind Weizen, Gerste und Linsen.   \n",
       "15492        Der Township-Manager ist Giovanni D. Ahmad.   \n",
       "15493  Das Gebiet war jahrzehntelang eine wichtige Ta...   \n",
       "\n",
       "                                                 english  \n",
       "0      The rhythm is typically played as a snare rim ...  \n",
       "1                         The county seat is Prineville.  \n",
       "2      There is no public transportation in Barkhamsted.  \n",
       "3      During his career, Berryman drew thousands of ...  \n",
       "4        Scared, the men flee the camp the next morning.  \n",
       "...                                                  ...  \n",
       "15489  It communicated using the Microsoft Notificati...  \n",
       "15490  A small double-crater overlays a portion of th...  \n",
       "15491       Wheat, barley and lentil are the main crops.  \n",
       "15492         Giovanni D. Ahmad is the township manager.  \n",
       "15493  For decades, the area was a key tobacco-growin...  \n",
       "\n",
       "[15494 rows x 3 columns]"
      ]
     },
     "execution_count": 55,
     "metadata": {},
     "output_type": "execute_result"
    }
   ],
   "source": [
    "df"
   ]
  },
  {
   "cell_type": "code",
   "execution_count": 56,
   "id": "b2b93e49",
   "metadata": {},
   "outputs": [],
   "source": [
    "paths = []\n",
    "englishs = []\n",
    "\n",
    "lines = [line.rstrip() for line in open(\"whisper_transcribed_medium.txt\")]\n",
    "\n",
    "count = 0\n",
    "for i in range(len(lines)-1):\n",
    "    value = re.split(r'\\t', lines[i])\n",
    "    paths.append(value[0])\n",
    "    try:\n",
    "        englishs.append(value[1])\n",
    "    except:\n",
    "        englishs.append('')\n",
    "        count += 1\n",
    "\n",
    "df_pred = pd.DataFrame()\n",
    "df_pred['path'] = paths\n",
    "df_pred['english_pred'] = englishs\n",
    "df_pred = df_pred.astype(str)"
   ]
  },
  {
   "cell_type": "code",
   "execution_count": 57,
   "id": "3e3dfb65",
   "metadata": {},
   "outputs": [
    {
     "data": {
      "text/plain": [
       "15494"
      ]
     },
     "execution_count": 57,
     "metadata": {},
     "output_type": "execute_result"
    }
   ],
   "source": [
    "len(df_pred)"
   ]
  },
  {
   "cell_type": "code",
   "execution_count": 23,
   "id": "2f3a4189",
   "metadata": {},
   "outputs": [],
   "source": [
    "df['path'] = df['path'].astype('|S') \n",
    "df_pred['path'] = df_pred['path'].astype('|S') \n",
    "df_joined = df.merge(df_pred, on = \"path\", how = \"inner\")"
   ]
  },
  {
   "cell_type": "code",
   "execution_count": 60,
   "id": "eda38ef1",
   "metadata": {},
   "outputs": [
    {
     "name": "stdout",
     "output_type": "stream",
     "text": [
      "0.5063705720670965\n",
      "BLEU = 1.45 5.4/1.6/0.9/0.6 (BP = 1.000 ratio = 7.400 hyp_len = 37 ref_len = 5)\n"
     ]
    },
    {
     "data": {
      "text/plain": [
       "BLEU = 1.45 5.4/1.6/0.9/0.6 (BP = 1.000 ratio = 7.400 hyp_len = 37 ref_len = 5)"
      ]
     },
     "execution_count": 60,
     "metadata": {},
     "output_type": "execute_result"
    }
   ],
   "source": [
    "ground_truth = df['english'].to_list()\n",
    "hypothesis = df_pred['english_pred'].to_list()\n",
    "getWER(ground_truth, hypothesis)\n",
    "getBLEU(ground_truth, hypothesis)"
   ]
  },
  {
   "cell_type": "code",
   "execution_count": null,
   "id": "2f7fdb2d",
   "metadata": {},
   "outputs": [],
   "source": []
  },
  {
   "cell_type": "code",
   "execution_count": null,
   "id": "f760cd75",
   "metadata": {},
   "outputs": [],
   "source": []
  },
  {
   "cell_type": "code",
   "execution_count": null,
   "id": "750d5570",
   "metadata": {},
   "outputs": [],
   "source": []
  },
  {
   "cell_type": "code",
   "execution_count": 61,
   "id": "c84f08b9",
   "metadata": {},
   "outputs": [],
   "source": [
    "paths = []\n",
    "germans = []\n",
    "\n",
    "lines = [line.rstrip() for line in open(\"translated_base.txt\")]\n",
    "\n",
    "count = 0\n",
    "for i in range(len(lines)-1):\n",
    "    value = re.split(r'\\t', lines[i])\n",
    "    paths.append(value[0])\n",
    "    try:\n",
    "        germans.append(value[1])\n",
    "    except:\n",
    "        germans.append('')\n",
    "        count += 1\n",
    "\n",
    "df_pred = pd.DataFrame()\n",
    "df_pred['path'] = paths\n",
    "df_pred['german_pred'] = germans\n",
    "df_pred = df_pred.astype(str)"
   ]
  },
  {
   "cell_type": "code",
   "execution_count": 62,
   "id": "70cc5095",
   "metadata": {},
   "outputs": [
    {
     "data": {
      "text/html": [
       "<div>\n",
       "<style scoped>\n",
       "    .dataframe tbody tr th:only-of-type {\n",
       "        vertical-align: middle;\n",
       "    }\n",
       "\n",
       "    .dataframe tbody tr th {\n",
       "        vertical-align: top;\n",
       "    }\n",
       "\n",
       "    .dataframe thead th {\n",
       "        text-align: right;\n",
       "    }\n",
       "</style>\n",
       "<table border=\"1\" class=\"dataframe\">\n",
       "  <thead>\n",
       "    <tr style=\"text-align: right;\">\n",
       "      <th></th>\n",
       "      <th>path</th>\n",
       "      <th>german_pred</th>\n",
       "    </tr>\n",
       "  </thead>\n",
       "  <tbody>\n",
       "    <tr>\n",
       "      <th>0</th>\n",
       "      <td>b'common_voice_en_18862286.mp3'</td>\n",
       "      <td>Der Rhythmus wird typischerweise als Snare-Fel...</td>\n",
       "    </tr>\n",
       "    <tr>\n",
       "      <th>1</th>\n",
       "      <td>b'common_voice_en_18854895.mp3'</td>\n",
       "      <td>Der Verwaltungssitz (County Seat) ist Pranavir.</td>\n",
       "    </tr>\n",
       "    <tr>\n",
       "      <th>2</th>\n",
       "      <td>b'common_voice_en_18854899.mp3'</td>\n",
       "      <td>Es gibt keine öffentlichen Verkehrsmittel in B...</td>\n",
       "    </tr>\n",
       "    <tr>\n",
       "      <th>3</th>\n",
       "      <td>b'common_voice_en_18860698.mp3'</td>\n",
       "      <td>Während seiner Karriere Barryman zeichnete Tau...</td>\n",
       "    </tr>\n",
       "    <tr>\n",
       "      <th>4</th>\n",
       "      <td>b'common_voice_en_18860699.mp3'</td>\n",
       "      <td>Erschreckte die Männer am nächsten Morgen aus ...</td>\n",
       "    </tr>\n",
       "    <tr>\n",
       "      <th>...</th>\n",
       "      <td>...</td>\n",
       "      <td>...</td>\n",
       "    </tr>\n",
       "    <tr>\n",
       "      <th>15489</th>\n",
       "      <td>b'common_voice_en_19789230.mp3'</td>\n",
       "      <td>Es kommuniziert mit dem Microsoft-Benachrichti...</td>\n",
       "    </tr>\n",
       "    <tr>\n",
       "      <th>15490</th>\n",
       "      <td>b'common_voice_en_20064029.mp3'</td>\n",
       "      <td>Ein kleiner Doppelkrater überlagert einen Teil...</td>\n",
       "    </tr>\n",
       "    <tr>\n",
       "      <th>15491</th>\n",
       "      <td>b'common_voice_en_20064031.mp3'</td>\n",
       "      <td>Weizen Gerste und Linsen sind die Hauptkulturen</td>\n",
       "    </tr>\n",
       "    <tr>\n",
       "      <th>15492</th>\n",
       "      <td>b'common_voice_en_20064032.mp3'</td>\n",
       "      <td>Giovanni D Hammett ist Mtoneship Manager</td>\n",
       "    </tr>\n",
       "    <tr>\n",
       "      <th>15493</th>\n",
       "      <td>b'common_voice_en_20064033.mp3'</td>\n",
       "      <td>Jahrzehntelang war die Ära eine wichtige Tabak...</td>\n",
       "    </tr>\n",
       "  </tbody>\n",
       "</table>\n",
       "<p>15494 rows × 2 columns</p>\n",
       "</div>"
      ],
      "text/plain": [
       "                                  path  \\\n",
       "0      b'common_voice_en_18862286.mp3'   \n",
       "1      b'common_voice_en_18854895.mp3'   \n",
       "2      b'common_voice_en_18854899.mp3'   \n",
       "3      b'common_voice_en_18860698.mp3'   \n",
       "4      b'common_voice_en_18860699.mp3'   \n",
       "...                                ...   \n",
       "15489  b'common_voice_en_19789230.mp3'   \n",
       "15490  b'common_voice_en_20064029.mp3'   \n",
       "15491  b'common_voice_en_20064031.mp3'   \n",
       "15492  b'common_voice_en_20064032.mp3'   \n",
       "15493  b'common_voice_en_20064033.mp3'   \n",
       "\n",
       "                                             german_pred  \n",
       "0      Der Rhythmus wird typischerweise als Snare-Fel...  \n",
       "1        Der Verwaltungssitz (County Seat) ist Pranavir.  \n",
       "2      Es gibt keine öffentlichen Verkehrsmittel in B...  \n",
       "3      Während seiner Karriere Barryman zeichnete Tau...  \n",
       "4      Erschreckte die Männer am nächsten Morgen aus ...  \n",
       "...                                                  ...  \n",
       "15489  Es kommuniziert mit dem Microsoft-Benachrichti...  \n",
       "15490  Ein kleiner Doppelkrater überlagert einen Teil...  \n",
       "15491    Weizen Gerste und Linsen sind die Hauptkulturen  \n",
       "15492           Giovanni D Hammett ist Mtoneship Manager  \n",
       "15493  Jahrzehntelang war die Ära eine wichtige Tabak...  \n",
       "\n",
       "[15494 rows x 2 columns]"
      ]
     },
     "execution_count": 62,
     "metadata": {},
     "output_type": "execute_result"
    }
   ],
   "source": [
    "df_pred"
   ]
  },
  {
   "cell_type": "code",
   "execution_count": 13,
   "id": "c2768e64",
   "metadata": {},
   "outputs": [
    {
     "data": {
      "text/html": [
       "<div>\n",
       "<style scoped>\n",
       "    .dataframe tbody tr th:only-of-type {\n",
       "        vertical-align: middle;\n",
       "    }\n",
       "\n",
       "    .dataframe tbody tr th {\n",
       "        vertical-align: top;\n",
       "    }\n",
       "\n",
       "    .dataframe thead th {\n",
       "        text-align: right;\n",
       "    }\n",
       "</style>\n",
       "<table border=\"1\" class=\"dataframe\">\n",
       "  <thead>\n",
       "    <tr style=\"text-align: right;\">\n",
       "      <th></th>\n",
       "      <th>path</th>\n",
       "      <th>german</th>\n",
       "      <th>english</th>\n",
       "    </tr>\n",
       "  </thead>\n",
       "  <tbody>\n",
       "    <tr>\n",
       "      <th>0</th>\n",
       "      <td>common_voice_en_18862286.mp3</td>\n",
       "      <td>Der Rhythmus wird in der Bossa-Nova-Musik typi...</td>\n",
       "      <td>The rhythm is typically played as a snare rim ...</td>\n",
       "    </tr>\n",
       "    <tr>\n",
       "      <th>1</th>\n",
       "      <td>common_voice_en_18854895.mp3</td>\n",
       "      <td>Der Verwaltungssitz des Countys ist Prineville.</td>\n",
       "      <td>The county seat is Prineville.</td>\n",
       "    </tr>\n",
       "    <tr>\n",
       "      <th>2</th>\n",
       "      <td>common_voice_en_18854899.mp3</td>\n",
       "      <td>In Barkhamsted gibt es keine öffentlichen Verk...</td>\n",
       "      <td>There is no public transportation in Barkhamsted.</td>\n",
       "    </tr>\n",
       "    <tr>\n",
       "      <th>3</th>\n",
       "      <td>common_voice_en_18860698.mp3</td>\n",
       "      <td>Im Laufe seiner Karriere zeichnete Berryman Ta...</td>\n",
       "      <td>During his career, Berryman drew thousands of ...</td>\n",
       "    </tr>\n",
       "    <tr>\n",
       "      <th>4</th>\n",
       "      <td>common_voice_en_18860699.mp3</td>\n",
       "      <td>Aus lauter Angst fliehen die Männer am nächste...</td>\n",
       "      <td>Scared, the men flee the camp the next morning.</td>\n",
       "    </tr>\n",
       "    <tr>\n",
       "      <th>...</th>\n",
       "      <td>...</td>\n",
       "      <td>...</td>\n",
       "      <td>...</td>\n",
       "    </tr>\n",
       "    <tr>\n",
       "      <th>15489</th>\n",
       "      <td>common_voice_en_19789230.mp3</td>\n",
       "      <td>Es kommunizierte unter Verwendung des Microsof...</td>\n",
       "      <td>It communicated using the Microsoft Notificati...</td>\n",
       "    </tr>\n",
       "    <tr>\n",
       "      <th>15490</th>\n",
       "      <td>common_voice_en_20064029.mp3</td>\n",
       "      <td>Ein kleiner Doppelkrater überlagert einen Teil...</td>\n",
       "      <td>A small double-crater overlays a portion of th...</td>\n",
       "    </tr>\n",
       "    <tr>\n",
       "      <th>15491</th>\n",
       "      <td>common_voice_en_20064031.mp3</td>\n",
       "      <td>Die Hauptkulturen sind Weizen, Gerste und Linsen.</td>\n",
       "      <td>Wheat, barley and lentil are the main crops.</td>\n",
       "    </tr>\n",
       "    <tr>\n",
       "      <th>15492</th>\n",
       "      <td>common_voice_en_20064032.mp3</td>\n",
       "      <td>Der Township-Manager ist Giovanni D. Ahmad.</td>\n",
       "      <td>Giovanni D. Ahmad is the township manager.</td>\n",
       "    </tr>\n",
       "    <tr>\n",
       "      <th>15493</th>\n",
       "      <td>common_voice_en_20064033.mp3</td>\n",
       "      <td>Das Gebiet war jahrzehntelang eine wichtige Ta...</td>\n",
       "      <td>For decades, the area was a key tobacco-growin...</td>\n",
       "    </tr>\n",
       "  </tbody>\n",
       "</table>\n",
       "<p>15494 rows × 3 columns</p>\n",
       "</div>"
      ],
      "text/plain": [
       "                               path  \\\n",
       "0      common_voice_en_18862286.mp3   \n",
       "1      common_voice_en_18854895.mp3   \n",
       "2      common_voice_en_18854899.mp3   \n",
       "3      common_voice_en_18860698.mp3   \n",
       "4      common_voice_en_18860699.mp3   \n",
       "...                             ...   \n",
       "15489  common_voice_en_19789230.mp3   \n",
       "15490  common_voice_en_20064029.mp3   \n",
       "15491  common_voice_en_20064031.mp3   \n",
       "15492  common_voice_en_20064032.mp3   \n",
       "15493  common_voice_en_20064033.mp3   \n",
       "\n",
       "                                                  german  \\\n",
       "0      Der Rhythmus wird in der Bossa-Nova-Musik typi...   \n",
       "1        Der Verwaltungssitz des Countys ist Prineville.   \n",
       "2      In Barkhamsted gibt es keine öffentlichen Verk...   \n",
       "3      Im Laufe seiner Karriere zeichnete Berryman Ta...   \n",
       "4      Aus lauter Angst fliehen die Männer am nächste...   \n",
       "...                                                  ...   \n",
       "15489  Es kommunizierte unter Verwendung des Microsof...   \n",
       "15490  Ein kleiner Doppelkrater überlagert einen Teil...   \n",
       "15491  Die Hauptkulturen sind Weizen, Gerste und Linsen.   \n",
       "15492        Der Township-Manager ist Giovanni D. Ahmad.   \n",
       "15493  Das Gebiet war jahrzehntelang eine wichtige Ta...   \n",
       "\n",
       "                                                 english  \n",
       "0      The rhythm is typically played as a snare rim ...  \n",
       "1                         The county seat is Prineville.  \n",
       "2      There is no public transportation in Barkhamsted.  \n",
       "3      During his career, Berryman drew thousands of ...  \n",
       "4        Scared, the men flee the camp the next morning.  \n",
       "...                                                  ...  \n",
       "15489  It communicated using the Microsoft Notificati...  \n",
       "15490  A small double-crater overlays a portion of th...  \n",
       "15491       Wheat, barley and lentil are the main crops.  \n",
       "15492         Giovanni D. Ahmad is the township manager.  \n",
       "15493  For decades, the area was a key tobacco-growin...  \n",
       "\n",
       "[15494 rows x 3 columns]"
      ]
     },
     "execution_count": 13,
     "metadata": {},
     "output_type": "execute_result"
    }
   ],
   "source": [
    "df"
   ]
  },
  {
   "cell_type": "code",
   "execution_count": 49,
   "id": "ed2c1165",
   "metadata": {},
   "outputs": [
    {
     "name": "stdout",
     "output_type": "stream",
     "text": [
      "0.7142857142857143\n",
      "BLEU = 0.00 0.0 (BP = 1.000 ratio = 12.000 hyp_len = 12 ref_len = 1)\n",
      "BLEU = 0.00 0.0 (BP = 1.000 ratio = 12.000 hyp_len = 12 ref_len = 1)\n"
     ]
    },
    {
     "data": {
      "text/plain": [
       "BLEU = 0.00 0.0 (BP = 1.000 ratio = 12.000 hyp_len = 12 ref_len = 1)"
      ]
     },
     "execution_count": 49,
     "metadata": {},
     "output_type": "execute_result"
    }
   ],
   "source": [
    "ground_truth = df['german'].to_list()\n",
    "hypothesis = df_pred['german_pred'].to_list()\n",
    "getWER(ground_truth[:1], hypothesis[:1])\n",
    "getBLEU(ground_truth[:1], hypothesis[:1])\n",
    "\n",
    "getBLEU([\"Der Rhythmus wird in der Bossa-Nova-Musik typischerweise als Snare-Rim-Muster gesplielt\"], \n",
    "        [\"Der Rhythmus wird typischerweise als Snare Felgenmuster in einer Nova Musik gespielt\"])"
   ]
  },
  {
   "cell_type": "code",
   "execution_count": 50,
   "id": "74a79aba",
   "metadata": {},
   "outputs": [
    {
     "name": "stdout",
     "output_type": "stream",
     "text": [
      "BLEU = 0.00 0.0/0.0/0.0/0.0 (BP = 1.000 ratio = 10.000 hyp_len = 10 ref_len = 1)\n"
     ]
    }
   ],
   "source": [
    "bleu = sacrebleu.corpus_bleu([\"Der Rhythmus wird in der Bossa-Nova-Musik typischerweise als Snare-Rim-Muster gesplielt\"], \n",
    "        [\"Der Rhythmus wird typischerweise als Snare Felgenmuster in einer Nova Musik gespielt\"])\n",
    "print(bleu)"
   ]
  },
  {
   "cell_type": "code",
   "execution_count": 53,
   "id": "07f16523",
   "metadata": {},
   "outputs": [
    {
     "ename": "AttributeError",
     "evalue": "module 'sacrebleu' has no attribute 'sacrebleu'",
     "output_type": "error",
     "traceback": [
      "\u001b[0;31m---------------------------------------------------------------------------\u001b[0m",
      "\u001b[0;31mAttributeError\u001b[0m                            Traceback (most recent call last)",
      "Cell \u001b[0;32mIn[53], line 1\u001b[0m\n\u001b[0;32m----> 1\u001b[0m \u001b[43msacrebleu\u001b[49m\u001b[38;5;241;43m.\u001b[39;49m\u001b[43msacrebleu\u001b[49m\u001b[38;5;241m.\u001b[39mparse_agrs()\n",
      "\u001b[0;31mAttributeError\u001b[0m: module 'sacrebleu' has no attribute 'sacrebleu'"
     ]
    }
   ],
   "source": [
    "sacrebleu.sacrebleu.parse_agrs()"
   ]
  },
  {
   "cell_type": "code",
   "execution_count": 48,
   "id": "dd1d0d31",
   "metadata": {},
   "outputs": [
    {
     "name": "stdout",
     "output_type": "stream",
     "text": [
      "Der Rhythmus wird in der Bossa-Nova-Musik typischerweise als Snare-Rim-Muster gespielt. Der Rhythmus wird typischerweise als Snare Felgenmuster in einer Nova Musik gespielt\n"
     ]
    }
   ],
   "source": [
    "print((ground_truth[0]), (hypothesis[0]))"
   ]
  },
  {
   "cell_type": "code",
   "execution_count": null,
   "id": "947a311a",
   "metadata": {},
   "outputs": [],
   "source": []
  },
  {
   "cell_type": "code",
   "execution_count": null,
   "id": "d1af576c",
   "metadata": {},
   "outputs": [],
   "source": []
  },
  {
   "cell_type": "code",
   "execution_count": 43,
   "id": "ae5aa5e1",
   "metadata": {},
   "outputs": [
    {
     "name": "stdout",
     "output_type": "stream",
     "text": [
      "BLEU = 11.11 11.1 (BP = 1.000 ratio = 9.000 hyp_len = 9 ref_len = 1)\n"
     ]
    },
    {
     "data": {
      "text/plain": [
       "BLEU = 11.11 11.1 (BP = 1.000 ratio = 9.000 hyp_len = 9 ref_len = 1)"
      ]
     },
     "execution_count": 43,
     "metadata": {},
     "output_type": "execute_result"
    }
   ],
   "source": [
    "getBLEU(['I really like the yogurt cause it has no sugar'], ['I LIKE this yogurt, it has no sugar'])"
   ]
  },
  {
   "cell_type": "code",
   "execution_count": 42,
   "id": "7fd9245b",
   "metadata": {},
   "outputs": [
    {
     "name": "stdout",
     "output_type": "stream",
     "text": [
      "BLEU = 4.20 10.0/5.6/3.1/1.8 (BP = 1.000 ratio = 10.000 hyp_len = 10 ref_len = 1)\n"
     ]
    }
   ],
   "source": [
    "import sacrebleu\n",
    "bleu = sacrebleu.corpus_bleu(['I really like the yogurt cause it has no sugar'], ['I LIKE this yogurt, it has no sugar'])\n",
    "print(bl)"
   ]
  },
  {
   "cell_type": "code",
   "execution_count": null,
   "id": "053321bf",
   "metadata": {},
   "outputs": [],
   "source": []
  }
 ],
 "metadata": {
  "kernelspec": {
   "display_name": "Python 3 (ipykernel)",
   "language": "python",
   "name": "python3"
  },
  "language_info": {
   "codemirror_mode": {
    "name": "ipython",
    "version": 3
   },
   "file_extension": ".py",
   "mimetype": "text/x-python",
   "name": "python",
   "nbconvert_exporter": "python",
   "pygments_lexer": "ipython3",
   "version": "3.8.10"
  }
 },
 "nbformat": 4,
 "nbformat_minor": 5
}
