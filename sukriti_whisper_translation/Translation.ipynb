{
 "cells": [
  {
   "cell_type": "code",
   "execution_count": 1,
   "id": "6f04c11d",
   "metadata": {},
   "outputs": [],
   "source": [
    "import jiwer\n",
    "from jiwer import wer\n",
    "import re\n",
    "import pandas as pd\n",
    "from sacrebleu.metrics import BLEU, CHRF, TER"
   ]
  },
  {
   "cell_type": "code",
   "execution_count": 2,
   "id": "7f331b8e",
   "metadata": {},
   "outputs": [],
   "source": [
    "def getWER(ground_truth, hypothesis):\n",
    "    for i in range(len(ground_truth)):\n",
    "        ground_truth[i] = re.sub(r'\\W+', ' ', ground_truth[i])\n",
    "        hypothesis[i] = re.sub(r'\\W+', ' ', hypothesis[i])\n",
    "\n",
    "    transformation = jiwer.Compose([\n",
    "        jiwer.ToLowerCase(),\n",
    "        jiwer.RemoveWhiteSpace(replace_by_space=True),\n",
    "        jiwer.RemoveMultipleSpaces(),\n",
    "        jiwer.ReduceToListOfListOfWords(word_delimiter=\" \")\n",
    "    ]) \n",
    "    \n",
    "#     print(ground_truth)\n",
    "#     print(hypothesis)\n",
    "\n",
    "    error = jiwer.wer(\n",
    "        ground_truth, \n",
    "        hypothesis, \n",
    "        truth_transform=transformation, \n",
    "        hypothesis_transform=transformation\n",
    "    )\n",
    "    print(error)\n",
    "    return error"
   ]
  },
  {
   "cell_type": "code",
   "execution_count": 3,
   "id": "fd537eaf",
   "metadata": {},
   "outputs": [],
   "source": [
    "def getBLEU(ground_truth, hypothesis):\n",
    "    refs = ground_truth\n",
    "    sys = hypothesis\n",
    "    bleu = BLEU()\n",
    "    bleu_score = bleu.corpus_score(sys, refs)\n",
    "    print(bleu_score)\n",
    "    return bleu_score"
   ]
  },
  {
   "cell_type": "code",
   "execution_count": 4,
   "id": "e332f66a",
   "metadata": {},
   "outputs": [],
   "source": [
    "paths = []\n",
    "englishs = []\n",
    "germans = []\n",
    "lines = [line.rstrip() for line in open(\"covost_v2.en_de.dev.tsv\")]\n",
    "for i in range(len(lines)):\n",
    "    if i==0:\n",
    "        continue\n",
    "    value = re.split(r'\\t', lines[i])\n",
    "    paths.append(value[0])\n",
    "    englishs.append(value[1])\n",
    "    germans.append(value[2])\n",
    "\n",
    "df = pd.DataFrame()\n",
    "df['path'] = paths\n",
    "df['german'] = germans\n",
    "df['english'] = englishs\n",
    "df = df.astype(str)"
   ]
  },
  {
   "cell_type": "code",
   "execution_count": 5,
   "id": "7f9836bc",
   "metadata": {},
   "outputs": [
    {
     "data": {
      "text/html": [
       "<div>\n",
       "<style scoped>\n",
       "    .dataframe tbody tr th:only-of-type {\n",
       "        vertical-align: middle;\n",
       "    }\n",
       "\n",
       "    .dataframe tbody tr th {\n",
       "        vertical-align: top;\n",
       "    }\n",
       "\n",
       "    .dataframe thead th {\n",
       "        text-align: right;\n",
       "    }\n",
       "</style>\n",
       "<table border=\"1\" class=\"dataframe\">\n",
       "  <thead>\n",
       "    <tr style=\"text-align: right;\">\n",
       "      <th></th>\n",
       "      <th>path</th>\n",
       "      <th>german</th>\n",
       "      <th>english</th>\n",
       "    </tr>\n",
       "  </thead>\n",
       "  <tbody>\n",
       "    <tr>\n",
       "      <th>0</th>\n",
       "      <td>common_voice_en_18862286.mp3</td>\n",
       "      <td>Der Rhythmus wird in der Bossa-Nova-Musik typi...</td>\n",
       "      <td>The rhythm is typically played as a snare rim ...</td>\n",
       "    </tr>\n",
       "    <tr>\n",
       "      <th>1</th>\n",
       "      <td>common_voice_en_18854895.mp3</td>\n",
       "      <td>Der Verwaltungssitz des Countys ist Prineville.</td>\n",
       "      <td>The county seat is Prineville.</td>\n",
       "    </tr>\n",
       "    <tr>\n",
       "      <th>2</th>\n",
       "      <td>common_voice_en_18854899.mp3</td>\n",
       "      <td>In Barkhamsted gibt es keine öffentlichen Verk...</td>\n",
       "      <td>There is no public transportation in Barkhamsted.</td>\n",
       "    </tr>\n",
       "    <tr>\n",
       "      <th>3</th>\n",
       "      <td>common_voice_en_18860698.mp3</td>\n",
       "      <td>Im Laufe seiner Karriere zeichnete Berryman Ta...</td>\n",
       "      <td>During his career, Berryman drew thousands of ...</td>\n",
       "    </tr>\n",
       "    <tr>\n",
       "      <th>4</th>\n",
       "      <td>common_voice_en_18860699.mp3</td>\n",
       "      <td>Aus lauter Angst fliehen die Männer am nächste...</td>\n",
       "      <td>Scared, the men flee the camp the next morning.</td>\n",
       "    </tr>\n",
       "    <tr>\n",
       "      <th>...</th>\n",
       "      <td>...</td>\n",
       "      <td>...</td>\n",
       "      <td>...</td>\n",
       "    </tr>\n",
       "    <tr>\n",
       "      <th>15489</th>\n",
       "      <td>common_voice_en_19789230.mp3</td>\n",
       "      <td>Es kommunizierte unter Verwendung des Microsof...</td>\n",
       "      <td>It communicated using the Microsoft Notificati...</td>\n",
       "    </tr>\n",
       "    <tr>\n",
       "      <th>15490</th>\n",
       "      <td>common_voice_en_20064029.mp3</td>\n",
       "      <td>Ein kleiner Doppelkrater überlagert einen Teil...</td>\n",
       "      <td>A small double-crater overlays a portion of th...</td>\n",
       "    </tr>\n",
       "    <tr>\n",
       "      <th>15491</th>\n",
       "      <td>common_voice_en_20064031.mp3</td>\n",
       "      <td>Die Hauptkulturen sind Weizen, Gerste und Linsen.</td>\n",
       "      <td>Wheat, barley and lentil are the main crops.</td>\n",
       "    </tr>\n",
       "    <tr>\n",
       "      <th>15492</th>\n",
       "      <td>common_voice_en_20064032.mp3</td>\n",
       "      <td>Der Township-Manager ist Giovanni D. Ahmad.</td>\n",
       "      <td>Giovanni D. Ahmad is the township manager.</td>\n",
       "    </tr>\n",
       "    <tr>\n",
       "      <th>15493</th>\n",
       "      <td>common_voice_en_20064033.mp3</td>\n",
       "      <td>Das Gebiet war jahrzehntelang eine wichtige Ta...</td>\n",
       "      <td>For decades, the area was a key tobacco-growin...</td>\n",
       "    </tr>\n",
       "  </tbody>\n",
       "</table>\n",
       "<p>15494 rows × 3 columns</p>\n",
       "</div>"
      ],
      "text/plain": [
       "                               path  \\\n",
       "0      common_voice_en_18862286.mp3   \n",
       "1      common_voice_en_18854895.mp3   \n",
       "2      common_voice_en_18854899.mp3   \n",
       "3      common_voice_en_18860698.mp3   \n",
       "4      common_voice_en_18860699.mp3   \n",
       "...                             ...   \n",
       "15489  common_voice_en_19789230.mp3   \n",
       "15490  common_voice_en_20064029.mp3   \n",
       "15491  common_voice_en_20064031.mp3   \n",
       "15492  common_voice_en_20064032.mp3   \n",
       "15493  common_voice_en_20064033.mp3   \n",
       "\n",
       "                                                  german  \\\n",
       "0      Der Rhythmus wird in der Bossa-Nova-Musik typi...   \n",
       "1        Der Verwaltungssitz des Countys ist Prineville.   \n",
       "2      In Barkhamsted gibt es keine öffentlichen Verk...   \n",
       "3      Im Laufe seiner Karriere zeichnete Berryman Ta...   \n",
       "4      Aus lauter Angst fliehen die Männer am nächste...   \n",
       "...                                                  ...   \n",
       "15489  Es kommunizierte unter Verwendung des Microsof...   \n",
       "15490  Ein kleiner Doppelkrater überlagert einen Teil...   \n",
       "15491  Die Hauptkulturen sind Weizen, Gerste und Linsen.   \n",
       "15492        Der Township-Manager ist Giovanni D. Ahmad.   \n",
       "15493  Das Gebiet war jahrzehntelang eine wichtige Ta...   \n",
       "\n",
       "                                                 english  \n",
       "0      The rhythm is typically played as a snare rim ...  \n",
       "1                         The county seat is Prineville.  \n",
       "2      There is no public transportation in Barkhamsted.  \n",
       "3      During his career, Berryman drew thousands of ...  \n",
       "4        Scared, the men flee the camp the next morning.  \n",
       "...                                                  ...  \n",
       "15489  It communicated using the Microsoft Notificati...  \n",
       "15490  A small double-crater overlays a portion of th...  \n",
       "15491       Wheat, barley and lentil are the main crops.  \n",
       "15492         Giovanni D. Ahmad is the township manager.  \n",
       "15493  For decades, the area was a key tobacco-growin...  \n",
       "\n",
       "[15494 rows x 3 columns]"
      ]
     },
     "execution_count": 5,
     "metadata": {},
     "output_type": "execute_result"
    }
   ],
   "source": [
    "df"
   ]
  },
  {
   "cell_type": "code",
   "execution_count": 7,
   "id": "b2b93e49",
   "metadata": {},
   "outputs": [],
   "source": [
    "paths = []\n",
    "englishs = []\n",
    "\n",
    "lines = [line.rstrip() for line in open(\"whisper_transcribed_medium.txt\")]\n",
    "\n",
    "count = 0\n",
    "for i in range(len(lines)-1):\n",
    "    value = re.split(r'\\t', lines[i])\n",
    "    paths.append(value[0])\n",
    "    try:\n",
    "        englishs.append(value[1])\n",
    "    except:\n",
    "        englishs.append('')\n",
    "        count += 1\n",
    "\n",
    "df_pred = pd.DataFrame()\n",
    "df_pred['path'] = paths\n",
    "df_pred['english_pred'] = englishs\n",
    "df_pred = df_pred.astype(str)"
   ]
  },
  {
   "cell_type": "code",
   "execution_count": 8,
   "id": "f41d48a2",
   "metadata": {},
   "outputs": [
    {
     "data": {
      "text/html": [
       "<div>\n",
       "<style scoped>\n",
       "    .dataframe tbody tr th:only-of-type {\n",
       "        vertical-align: middle;\n",
       "    }\n",
       "\n",
       "    .dataframe tbody tr th {\n",
       "        vertical-align: top;\n",
       "    }\n",
       "\n",
       "    .dataframe thead th {\n",
       "        text-align: right;\n",
       "    }\n",
       "</style>\n",
       "<table border=\"1\" class=\"dataframe\">\n",
       "  <thead>\n",
       "    <tr style=\"text-align: right;\">\n",
       "      <th></th>\n",
       "      <th>path</th>\n",
       "      <th>english_pred</th>\n",
       "    </tr>\n",
       "  </thead>\n",
       "  <tbody>\n",
       "    <tr>\n",
       "      <th>0</th>\n",
       "      <td>common_voice_en_19703104.mp3</td>\n",
       "      <td>The airport built a glass vault shelter to re...</td>\n",
       "    </tr>\n",
       "    <tr>\n",
       "      <th>1</th>\n",
       "      <td>common_voice_en_19620264.mp3</td>\n",
       "      <td>Early potato chip bags or wax paper with the ...</td>\n",
       "    </tr>\n",
       "    <tr>\n",
       "      <th>2</th>\n",
       "      <td>common_voice_en_19536604.mp3</td>\n",
       "      <td>It was only partially destroyed and was resto...</td>\n",
       "    </tr>\n",
       "    <tr>\n",
       "      <th>3</th>\n",
       "      <td>common_voice_en_19414447.mp3</td>\n",
       "      <td>Chorus was to retain its melting operations a...</td>\n",
       "    </tr>\n",
       "    <tr>\n",
       "      <th>4</th>\n",
       "      <td>common_voice_en_19822347.mp3</td>\n",
       "      <td>Something happened has frequently be criticiz...</td>\n",
       "    </tr>\n",
       "    <tr>\n",
       "      <th>...</th>\n",
       "      <td>...</td>\n",
       "      <td>...</td>\n",
       "    </tr>\n",
       "    <tr>\n",
       "      <th>15489</th>\n",
       "      <td>common_voice_en_20016471.mp3</td>\n",
       "      <td>Or was present for the lecture and was very i...</td>\n",
       "    </tr>\n",
       "    <tr>\n",
       "      <th>15490</th>\n",
       "      <td>common_voice_en_20024406.mp3</td>\n",
       "      <td>Some variants have odd trumps.</td>\n",
       "    </tr>\n",
       "    <tr>\n",
       "      <th>15491</th>\n",
       "      <td>common_voice_en_18843438.mp3</td>\n",
       "      <td>He later became known as Boston's favorite son.</td>\n",
       "    </tr>\n",
       "    <tr>\n",
       "      <th>15492</th>\n",
       "      <td>common_voice_en_19606229.mp3</td>\n",
       "      <td>Martin Brest, Steven Spielberg and Sydney Pol...</td>\n",
       "    </tr>\n",
       "    <tr>\n",
       "      <th>15493</th>\n",
       "      <td>common_voice_en_17258114.mp3</td>\n",
       "      <td>Where did it come from then?</td>\n",
       "    </tr>\n",
       "  </tbody>\n",
       "</table>\n",
       "<p>15494 rows × 2 columns</p>\n",
       "</div>"
      ],
      "text/plain": [
       "                               path  \\\n",
       "0      common_voice_en_19703104.mp3   \n",
       "1      common_voice_en_19620264.mp3   \n",
       "2      common_voice_en_19536604.mp3   \n",
       "3      common_voice_en_19414447.mp3   \n",
       "4      common_voice_en_19822347.mp3   \n",
       "...                             ...   \n",
       "15489  common_voice_en_20016471.mp3   \n",
       "15490  common_voice_en_20024406.mp3   \n",
       "15491  common_voice_en_18843438.mp3   \n",
       "15492  common_voice_en_19606229.mp3   \n",
       "15493  common_voice_en_17258114.mp3   \n",
       "\n",
       "                                            english_pred  \n",
       "0       The airport built a glass vault shelter to re...  \n",
       "1       Early potato chip bags or wax paper with the ...  \n",
       "2       It was only partially destroyed and was resto...  \n",
       "3       Chorus was to retain its melting operations a...  \n",
       "4       Something happened has frequently be criticiz...  \n",
       "...                                                  ...  \n",
       "15489   Or was present for the lecture and was very i...  \n",
       "15490                     Some variants have odd trumps.  \n",
       "15491    He later became known as Boston's favorite son.  \n",
       "15492   Martin Brest, Steven Spielberg and Sydney Pol...  \n",
       "15493                       Where did it come from then?  \n",
       "\n",
       "[15494 rows x 2 columns]"
      ]
     },
     "execution_count": 8,
     "metadata": {},
     "output_type": "execute_result"
    }
   ],
   "source": [
    "df_pred"
   ]
  },
  {
   "cell_type": "code",
   "execution_count": 9,
   "id": "43f2467c",
   "metadata": {},
   "outputs": [],
   "source": [
    "df['path'] = df['path'].astype('|S') \n",
    "df_pred['path'] = df_pred['path'].astype('|S') \n",
    "df_joined = df.merge(df_pred, on = \"path\", how = \"inner\")"
   ]
  },
  {
   "cell_type": "code",
   "execution_count": 10,
   "id": "a8108f44",
   "metadata": {},
   "outputs": [
    {
     "name": "stdout",
     "output_type": "stream",
     "text": [
      "0.0890081944051992\n",
      "BLEU = 0.84 2.0/1.1/0.6/0.4 (BP = 1.000 ratio = 10.000 hyp_len = 50 ref_len = 5)\n"
     ]
    },
    {
     "data": {
      "text/plain": [
       "BLEU = 0.84 2.0/1.1/0.6/0.4 (BP = 1.000 ratio = 10.000 hyp_len = 50 ref_len = 5)"
      ]
     },
     "execution_count": 10,
     "metadata": {},
     "output_type": "execute_result"
    }
   ],
   "source": [
    "ground_truth = df_joined['english'].to_list()\n",
    "hypothesis = df_joined['english_pred'].to_list()\n",
    "getWER(ground_truth, hypothesis)\n",
    "getBLEU(ground_truth, hypothesis)"
   ]
  },
  {
   "cell_type": "code",
   "execution_count": null,
   "id": "3d26f2c4",
   "metadata": {},
   "outputs": [],
   "source": []
  },
  {
   "cell_type": "code",
   "execution_count": 11,
   "id": "90e1aaf1",
   "metadata": {},
   "outputs": [
    {
     "name": "stderr",
     "output_type": "stream",
     "text": [
      "/home/sukriti/.local/lib/python3.8/site-packages/tqdm/auto.py:22: TqdmWarning: IProgress not found. Please update jupyter and ipywidgets. See https://ipywidgets.readthedocs.io/en/stable/user_install.html\n",
      "  from .autonotebook import tqdm as notebook_tqdm\n"
     ]
    }
   ],
   "source": [
    "from transformers import pipeline"
   ]
  },
  {
   "cell_type": "code",
   "execution_count": 12,
   "id": "ca50c54d",
   "metadata": {},
   "outputs": [],
   "source": [
    "helsinki_en2de = pipeline(\"translation_en_to_de\", \"Helsinki-NLP/opus-mt-en-de\")"
   ]
  },
  {
   "cell_type": "code",
   "execution_count": 13,
   "id": "100f95cc",
   "metadata": {},
   "outputs": [
    {
     "name": "stdout",
     "output_type": "stream",
     "text": [
      "Defaulting to user installation because normal site-packages is not writeable\n",
      "Requirement already satisfied: tqdm in /home/sukriti/.local/lib/python3.8/site-packages (4.64.1)\n"
     ]
    }
   ],
   "source": [
    "!pip install tqdm"
   ]
  },
  {
   "cell_type": "code",
   "execution_count": 14,
   "id": "6a2d313e",
   "metadata": {},
   "outputs": [],
   "source": [
    "from tqdm import tqdm"
   ]
  },
  {
   "cell_type": "code",
   "execution_count": null,
   "id": "a5ec9bdf",
   "metadata": {},
   "outputs": [
    {
     "name": "stderr",
     "output_type": "stream",
     "text": [
      " 52%|█████████████████████████████████████████▏                                     | 253/485 [1:01:40<55:31, 14.36s/it]"
     ]
    }
   ],
   "source": [
    "hypothesis_en2de = [] \n",
    "for i in tqdm(range(0, len(hypothesis), 32)):\n",
    "    hypothesis_en2de.append(helsinki_en2de(hypothesis[i:i+32]))"
   ]
  },
  {
   "cell_type": "code",
   "execution_count": null,
   "id": "28b961e7",
   "metadata": {},
   "outputs": [],
   "source": [
    "ground_truth_translation = df_joined['german'].to_list()"
   ]
  },
  {
   "cell_type": "code",
   "execution_count": null,
   "id": "40a1c03e",
   "metadata": {},
   "outputs": [],
   "source": [
    "# make lens match\n",
    "len(hypothesis_en2de)\n",
    "\n",
    "hypothesis_translation = []\n",
    "for batch in hypothesis_en2de:\n",
    "    for h in batch:\n",
    "        hypothesis_translation.append(h['translation_text'])\n",
    "\n",
    "len(hypothesis_translation)"
   ]
  },
  {
   "cell_type": "code",
   "execution_count": 117,
   "id": "28a7e3d7",
   "metadata": {},
   "outputs": [
    {
     "name": "stdout",
     "output_type": "stream",
     "text": [
      "['Der Rhythmus wird in der Bossa Nova Musik typischerweise als Snare Rim Muster gespielt ']\n",
      "['Der Rhythmus wird typischerweise als Snare Felgenmuster in einer Nova Musik gespielt ']\n",
      "0.7142857142857143\n",
      "BLEU = 0.00 0.0/0.0/0.0/0.0 (BP = 1.000 ratio = 12.000 hyp_len = 12 ref_len = 1)\n"
     ]
    },
    {
     "data": {
      "text/plain": [
       "BLEU = 0.00 0.0/0.0/0.0/0.0 (BP = 1.000 ratio = 12.000 hyp_len = 12 ref_len = 1)"
      ]
     },
     "execution_count": 117,
     "metadata": {},
     "output_type": "execute_result"
    }
   ],
   "source": [
    "# getWER(ground_truth_translation[:1], hypothesis_translation2[:1])\n",
    "# getBLEU(ground_truth_translation[:1], hypothesis_translation2[:1])"
   ]
  },
  {
   "cell_type": "code",
   "execution_count": 15,
   "id": "e8acecba",
   "metadata": {},
   "outputs": [
    {
     "data": {
      "text/plain": [
       "['Der Rhythmus wird in der Bossa-Nova-Musik typischerweise als Snare-Rim-Muster gespielt.',\n",
       " 'Der Verwaltungssitz des Countys ist Prineville.',\n",
       " 'In Barkhamsted gibt es keine öffentlichen Verkehrsmittel.',\n",
       " 'Im Laufe seiner Karriere zeichnete Berryman Tausende Comics mit Kommentaren zu amerikanischen Präsidenten und Politik.',\n",
       " 'Aus lauter Angst fliehen die Männer am nächsten Morgen aus dem Camp.']"
      ]
     },
     "execution_count": 15,
     "metadata": {},
     "output_type": "execute_result"
    }
   ],
   "source": [
    "ground_truth_translation[:5]"
   ]
  },
  {
   "cell_type": "code",
   "execution_count": 17,
   "id": "c1b637ef",
   "metadata": {},
   "outputs": [
    {
     "data": {
      "text/plain": [
       "['Der Rhythmus wird typischerweise als Snare-Felgenmuster in Bosa Nova-Musik gespielt',\n",
       " 'Der Verwaltungssitz (County Seat) ist Pranavil.',\n",
       " 'Es gibt keine öffentlichen Verkehrsmittel in Baukampsted',\n",
       " 'Während seiner Karriere zog Berryman Tausende von Cartoons kommentieren amerikanischen Präsidenten und Politik',\n",
       " 'Angst Die Männer flüchten am nächsten Morgen aus dem Lager']"
      ]
     },
     "execution_count": 17,
     "metadata": {},
     "output_type": "execute_result"
    }
   ],
   "source": [
    "hypothesis_translation[:5]"
   ]
  },
  {
   "cell_type": "code",
   "execution_count": null,
   "id": "1aadf300",
   "metadata": {},
   "outputs": [],
   "source": []
  },
  {
   "cell_type": "code",
   "execution_count": null,
   "id": "603d758d",
   "metadata": {},
   "outputs": [],
   "source": [
    "# save translations\n",
    "paths = df_joined['path'].to_list()\n",
    "translated = \"\"\n",
    "for i in range(len(hypothesis_translation)):\n",
    "    translated += str(paths[i]) + '\\t' + hypothesis_translation[i] + '\\n' \n",
    "\n",
    "with open(\"translated_medium.txt\", \"w\") as text_file:                                                               \n",
    "    print(translated, file=text_file)"
   ]
  },
  {
   "cell_type": "code",
   "execution_count": null,
   "id": "9eac062e",
   "metadata": {},
   "outputs": [],
   "source": []
  }
 ],
 "metadata": {
  "kernelspec": {
   "display_name": "Python 3 (ipykernel)",
   "language": "python",
   "name": "python3"
  },
  "language_info": {
   "codemirror_mode": {
    "name": "ipython",
    "version": 3
   },
   "file_extension": ".py",
   "mimetype": "text/x-python",
   "name": "python",
   "nbconvert_exporter": "python",
   "pygments_lexer": "ipython3",
   "version": "3.8.10"
  }
 },
 "nbformat": 4,
 "nbformat_minor": 5
}
